{
 "cells": [
  {
   "cell_type": "code",
   "execution_count": 1,
   "metadata": {},
   "outputs": [
    {
     "name": "stdout",
     "output_type": "stream",
     "text": [
      "/Users/danieloliveiradebrito/Projetos/cd4ml-sales-forecasting\n"
     ]
    },
    {
     "name": "stderr",
     "output_type": "stream",
     "text": [
      "/Users/danieloliveiradebrito/Projetos/cd4ml-sales-forecasting/.venv/lib/python3.12/site-packages/IPython/core/magics/osm.py:417: UserWarning: This is now an optional IPython functionality, setting dhist requires you to install the `pickleshare` library.\n",
      "  self.shell.db['dhist'] = compress_dhist(dhist)[-100:]\n"
     ]
    }
   ],
   "source": [
    "%cd ..\n",
    "%load_ext autoreload\n",
    "%autoreload 2"
   ]
  },
  {
   "cell_type": "markdown",
   "metadata": {},
   "source": [
    "# Mini EDA"
   ]
  },
  {
   "cell_type": "code",
   "execution_count": 3,
   "metadata": {},
   "outputs": [],
   "source": [
    "import polars as pl"
   ]
  },
  {
   "cell_type": "code",
   "execution_count": 7,
   "metadata": {},
   "outputs": [
    {
     "data": {
      "text/html": [
       "<div><style>\n",
       ".dataframe > thead > tr,\n",
       ".dataframe > tbody > tr {\n",
       "  text-align: right;\n",
       "  white-space: pre-wrap;\n",
       "}\n",
       "</style>\n",
       "<small>shape: (54, 1)</small><table border=\"1\" class=\"dataframe\"><thead><tr><th>store_nbr</th></tr><tr><td>i64</td></tr></thead><tbody><tr><td>21</td></tr><tr><td>27</td></tr><tr><td>39</td></tr><tr><td>9</td></tr><tr><td>36</td></tr><tr><td>&hellip;</td></tr><tr><td>50</td></tr><tr><td>29</td></tr><tr><td>17</td></tr><tr><td>38</td></tr><tr><td>53</td></tr></tbody></table></div>"
      ],
      "text/plain": [
       "shape: (54, 1)\n",
       "┌───────────┐\n",
       "│ store_nbr │\n",
       "│ ---       │\n",
       "│ i64       │\n",
       "╞═══════════╡\n",
       "│ 21        │\n",
       "│ 27        │\n",
       "│ 39        │\n",
       "│ 9         │\n",
       "│ 36        │\n",
       "│ …         │\n",
       "│ 50        │\n",
       "│ 29        │\n",
       "│ 17        │\n",
       "│ 38        │\n",
       "│ 53        │\n",
       "└───────────┘"
      ]
     },
     "execution_count": 7,
     "metadata": {},
     "output_type": "execute_result"
    }
   ],
   "source": [
    "pl.scan_csv('data/train.csv').select(pl.col('store_nbr')).unique().collect()"
   ]
  },
  {
   "cell_type": "code",
   "execution_count": 8,
   "metadata": {},
   "outputs": [
    {
     "data": {
      "text/html": [
       "<div><style>\n",
       ".dataframe > thead > tr,\n",
       ".dataframe > tbody > tr {\n",
       "  text-align: right;\n",
       "  white-space: pre-wrap;\n",
       "}\n",
       "</style>\n",
       "<small>shape: (5, 6)</small><table border=\"1\" class=\"dataframe\"><thead><tr><th>id</th><th>date</th><th>store_nbr</th><th>item_nbr</th><th>unit_sales</th><th>onpromotion</th></tr><tr><td>i64</td><td>str</td><td>i64</td><td>i64</td><td>f64</td><td>str</td></tr></thead><tbody><tr><td>35958</td><td>&quot;2013-01-02&quot;</td><td>47</td><td>103665</td><td>11.0</td><td>null</td></tr><tr><td>35959</td><td>&quot;2013-01-02&quot;</td><td>47</td><td>105574</td><td>57.0</td><td>null</td></tr><tr><td>35960</td><td>&quot;2013-01-02&quot;</td><td>47</td><td>105575</td><td>98.0</td><td>null</td></tr><tr><td>35961</td><td>&quot;2013-01-02&quot;</td><td>47</td><td>105577</td><td>2.0</td><td>null</td></tr><tr><td>35962</td><td>&quot;2013-01-02&quot;</td><td>47</td><td>105693</td><td>8.0</td><td>null</td></tr></tbody></table></div>"
      ],
      "text/plain": [
       "shape: (5, 6)\n",
       "┌───────┬────────────┬───────────┬──────────┬────────────┬─────────────┐\n",
       "│ id    ┆ date       ┆ store_nbr ┆ item_nbr ┆ unit_sales ┆ onpromotion │\n",
       "│ ---   ┆ ---        ┆ ---       ┆ ---      ┆ ---        ┆ ---         │\n",
       "│ i64   ┆ str        ┆ i64       ┆ i64      ┆ f64        ┆ str         │\n",
       "╞═══════╪════════════╪═══════════╪══════════╪════════════╪═════════════╡\n",
       "│ 35958 ┆ 2013-01-02 ┆ 47        ┆ 103665   ┆ 11.0       ┆ null        │\n",
       "│ 35959 ┆ 2013-01-02 ┆ 47        ┆ 105574   ┆ 57.0       ┆ null        │\n",
       "│ 35960 ┆ 2013-01-02 ┆ 47        ┆ 105575   ┆ 98.0       ┆ null        │\n",
       "│ 35961 ┆ 2013-01-02 ┆ 47        ┆ 105577   ┆ 2.0        ┆ null        │\n",
       "│ 35962 ┆ 2013-01-02 ┆ 47        ┆ 105693   ┆ 8.0        ┆ null        │\n",
       "└───────┴────────────┴───────────┴──────────┴────────────┴─────────────┘"
      ]
     },
     "execution_count": 8,
     "metadata": {},
     "output_type": "execute_result"
    }
   ],
   "source": [
    "pl.scan_csv('data/train.csv').filter(pl.col('store_nbr') == 47).head().collect()"
   ]
  },
  {
   "cell_type": "code",
   "execution_count": 17,
   "metadata": {},
   "outputs": [
    {
     "data": {
      "text/html": [
       "<div><style>\n",
       ".dataframe > thead > tr,\n",
       ".dataframe > tbody > tr {\n",
       "  text-align: right;\n",
       "  white-space: pre-wrap;\n",
       "}\n",
       "</style>\n",
       "<small>shape: (5, 2)</small><table border=\"1\" class=\"dataframe\"><thead><tr><th>year</th><th>len</th></tr><tr><td>i32</td><td>u32</td></tr></thead><tbody><tr><td>2015</td><td>758018</td></tr><tr><td>2017</td><td>625988</td></tr><tr><td>2014</td><td>645746</td></tr><tr><td>2016</td><td>949683</td></tr><tr><td>2013</td><td>477972</td></tr></tbody></table></div>"
      ],
      "text/plain": [
       "shape: (5, 2)\n",
       "┌──────┬────────┐\n",
       "│ year ┆ len    │\n",
       "│ ---  ┆ ---    │\n",
       "│ i32  ┆ u32    │\n",
       "╞══════╪════════╡\n",
       "│ 2015 ┆ 758018 │\n",
       "│ 2017 ┆ 625988 │\n",
       "│ 2014 ┆ 645746 │\n",
       "│ 2016 ┆ 949683 │\n",
       "│ 2013 ┆ 477972 │\n",
       "└──────┴────────┘"
      ]
     },
     "execution_count": 17,
     "metadata": {},
     "output_type": "execute_result"
    }
   ],
   "source": [
    "(pl.scan_csv('data/train.csv')\n",
    " .filter(pl.col('store_nbr') == 47)\n",
    " .with_columns(pl.col('date').str.to_date(format='%Y-%m-%d'))\n",
    " .with_columns(pl.col('date').dt.year().alias('year'))\n",
    " .group_by('year')\n",
    " .len()\n",
    " .collect())"
   ]
  },
  {
   "cell_type": "code",
   "execution_count": 26,
   "metadata": {},
   "outputs": [],
   "source": [
    "store47_2016 = (\n",
    "    pl.scan_csv('data/train.csv')\n",
    "    .filter(pl.col('store_nbr') == 47)\n",
    "    .with_columns(\n",
    "        pl.col('date').str.to_date(format='%Y-%m-%d'),\n",
    "        pl.col('onpromotion').replace_strict({\"False\": False, \"True\": True}))\n",
    "    .filter(pl.col('date').dt.year().cast(pl.Int32) == 2016)\n",
    "    .collect()\n",
    ")"
   ]
  },
  {
   "cell_type": "code",
   "execution_count": 28,
   "metadata": {},
   "outputs": [],
   "source": [
    "store47_2016.write_parquet('data/store47_2016.zstd', compression='zstd')"
   ]
  },
  {
   "cell_type": "code",
   "execution_count": 29,
   "metadata": {},
   "outputs": [
    {
     "data": {
      "text/html": [
       "<div><style>\n",
       ".dataframe > thead > tr,\n",
       ".dataframe > tbody > tr {\n",
       "  text-align: right;\n",
       "  white-space: pre-wrap;\n",
       "}\n",
       "</style>\n",
       "<small>shape: (5, 6)</small><table border=\"1\" class=\"dataframe\"><thead><tr><th>id</th><th>date</th><th>store_nbr</th><th>item_nbr</th><th>unit_sales</th><th>onpromotion</th></tr><tr><td>i64</td><td>date</td><td>i64</td><td>i64</td><td>f64</td><td>bool</td></tr></thead><tbody><tr><td>66545998</td><td>2016-01-02</td><td>47</td><td>103520</td><td>10.0</td><td>true</td></tr><tr><td>66545999</td><td>2016-01-02</td><td>47</td><td>103665</td><td>7.0</td><td>false</td></tr><tr><td>66546000</td><td>2016-01-02</td><td>47</td><td>105574</td><td>33.0</td><td>false</td></tr><tr><td>66546001</td><td>2016-01-02</td><td>47</td><td>105575</td><td>80.0</td><td>false</td></tr><tr><td>66546002</td><td>2016-01-02</td><td>47</td><td>105577</td><td>13.0</td><td>false</td></tr></tbody></table></div>"
      ],
      "text/plain": [
       "shape: (5, 6)\n",
       "┌──────────┬────────────┬───────────┬──────────┬────────────┬─────────────┐\n",
       "│ id       ┆ date       ┆ store_nbr ┆ item_nbr ┆ unit_sales ┆ onpromotion │\n",
       "│ ---      ┆ ---        ┆ ---       ┆ ---      ┆ ---        ┆ ---         │\n",
       "│ i64      ┆ date       ┆ i64       ┆ i64      ┆ f64        ┆ bool        │\n",
       "╞══════════╪════════════╪═══════════╪══════════╪════════════╪═════════════╡\n",
       "│ 66545998 ┆ 2016-01-02 ┆ 47        ┆ 103520   ┆ 10.0       ┆ true        │\n",
       "│ 66545999 ┆ 2016-01-02 ┆ 47        ┆ 103665   ┆ 7.0        ┆ false       │\n",
       "│ 66546000 ┆ 2016-01-02 ┆ 47        ┆ 105574   ┆ 33.0       ┆ false       │\n",
       "│ 66546001 ┆ 2016-01-02 ┆ 47        ┆ 105575   ┆ 80.0       ┆ false       │\n",
       "│ 66546002 ┆ 2016-01-02 ┆ 47        ┆ 105577   ┆ 13.0       ┆ false       │\n",
       "└──────────┴────────────┴───────────┴──────────┴────────────┴─────────────┘"
      ]
     },
     "execution_count": 29,
     "metadata": {},
     "output_type": "execute_result"
    }
   ],
   "source": [
    "pl.scan_parquet('data/store47_2016.zstd').head().collect()"
   ]
  },
  {
   "cell_type": "code",
   "execution_count": 31,
   "metadata": {},
   "outputs": [
    {
     "data": {
      "text/html": [
       "<div><style>\n",
       ".dataframe > thead > tr,\n",
       ".dataframe > tbody > tr {\n",
       "  text-align: right;\n",
       "  white-space: pre-wrap;\n",
       "}\n",
       "</style>\n",
       "<small>shape: (9, 7)</small><table border=\"1\" class=\"dataframe\"><thead><tr><th>statistic</th><th>id</th><th>date</th><th>store_nbr</th><th>item_nbr</th><th>unit_sales</th><th>onpromotion</th></tr><tr><td>str</td><td>f64</td><td>str</td><td>f64</td><td>f64</td><td>f64</td><td>f64</td></tr></thead><tbody><tr><td>&quot;count&quot;</td><td>949683.0</td><td>&quot;949683&quot;</td><td>949683.0</td><td>949683.0</td><td>949683.0</td><td>949683.0</td></tr><tr><td>&quot;null_count&quot;</td><td>0.0</td><td>&quot;0&quot;</td><td>0.0</td><td>0.0</td><td>0.0</td><td>0.0</td></tr><tr><td>&quot;mean&quot;</td><td>8.4195e7</td><td>&quot;2016-07-04 18:42:04.154000&quot;</td><td>47.0</td><td>1.1166e6</td><td>14.085485</td><td>0.09022</td></tr><tr><td>&quot;std&quot;</td><td>1.0147e7</td><td>null</td><td>0.0</td><td>548828.00264</td><td>27.320898</td><td>null</td></tr><tr><td>&quot;min&quot;</td><td>6.6545998e7</td><td>&quot;2016-01-02&quot;</td><td>47.0</td><td>99197.0</td><td>-123.0</td><td>0.0</td></tr><tr><td>&quot;25%&quot;</td><td>7.5359294e7</td><td>&quot;2016-04-04&quot;</td><td>47.0</td><td>675524.0</td><td>3.0</td><td>null</td></tr><tr><td>&quot;50%&quot;</td><td>8.4247521e7</td><td>&quot;2016-07-06&quot;</td><td>47.0</td><td>1.157562e6</td><td>7.0</td><td>null</td></tr><tr><td>&quot;75%&quot;</td><td>9.3018282e7</td><td>&quot;2016-10-05&quot;</td><td>47.0</td><td>1.464177e6</td><td>15.0</td><td>null</td></tr><tr><td>&quot;max&quot;</td><td>1.01674584e8</td><td>&quot;2016-12-31&quot;</td><td>47.0</td><td>2.124052e6</td><td>5755.0</td><td>1.0</td></tr></tbody></table></div>"
      ],
      "text/plain": [
       "shape: (9, 7)\n",
       "┌────────────┬──────────────┬────────────────┬───────────┬──────────────┬────────────┬─────────────┐\n",
       "│ statistic  ┆ id           ┆ date           ┆ store_nbr ┆ item_nbr     ┆ unit_sales ┆ onpromotion │\n",
       "│ ---        ┆ ---          ┆ ---            ┆ ---       ┆ ---          ┆ ---        ┆ ---         │\n",
       "│ str        ┆ f64          ┆ str            ┆ f64       ┆ f64          ┆ f64        ┆ f64         │\n",
       "╞════════════╪══════════════╪════════════════╪═══════════╪══════════════╪════════════╪═════════════╡\n",
       "│ count      ┆ 949683.0     ┆ 949683         ┆ 949683.0  ┆ 949683.0     ┆ 949683.0   ┆ 949683.0    │\n",
       "│ null_count ┆ 0.0          ┆ 0              ┆ 0.0       ┆ 0.0          ┆ 0.0        ┆ 0.0         │\n",
       "│ mean       ┆ 8.4195e7     ┆ 2016-07-04 18: ┆ 47.0      ┆ 1.1166e6     ┆ 14.085485  ┆ 0.09022     │\n",
       "│            ┆              ┆ 42:04.154000   ┆           ┆              ┆            ┆             │\n",
       "│ std        ┆ 1.0147e7     ┆ null           ┆ 0.0       ┆ 548828.00264 ┆ 27.320898  ┆ null        │\n",
       "│ min        ┆ 6.6545998e7  ┆ 2016-01-02     ┆ 47.0      ┆ 99197.0      ┆ -123.0     ┆ 0.0         │\n",
       "│ 25%        ┆ 7.5359294e7  ┆ 2016-04-04     ┆ 47.0      ┆ 675524.0     ┆ 3.0        ┆ null        │\n",
       "│ 50%        ┆ 8.4247521e7  ┆ 2016-07-06     ┆ 47.0      ┆ 1.157562e6   ┆ 7.0        ┆ null        │\n",
       "│ 75%        ┆ 9.3018282e7  ┆ 2016-10-05     ┆ 47.0      ┆ 1.464177e6   ┆ 15.0       ┆ null        │\n",
       "│ max        ┆ 1.01674584e8 ┆ 2016-12-31     ┆ 47.0      ┆ 2.124052e6   ┆ 5755.0     ┆ 1.0         │\n",
       "└────────────┴──────────────┴────────────────┴───────────┴──────────────┴────────────┴─────────────┘"
      ]
     },
     "execution_count": 31,
     "metadata": {},
     "output_type": "execute_result"
    }
   ],
   "source": [
    "pl.scan_parquet('data/store47_2016.zstd').describe()"
   ]
  },
  {
   "cell_type": "code",
   "execution_count": 33,
   "metadata": {},
   "outputs": [],
   "source": [
    "# remove negative unit_sales(\n",
    "(pl.scan_parquet('data/store47_2016.zstd')\n",
    ".filter(pl.col('unit_sales') >= 0)\n",
    ".collect()\n",
    ".write_parquet('data/store47_2016_positive.zstd', compression='zstd')\n",
    ")"
   ]
  },
  {
   "cell_type": "markdown",
   "metadata": {},
   "source": [
    "# Download"
   ]
  },
  {
   "cell_type": "code",
   "execution_count": 2,
   "metadata": {},
   "outputs": [
    {
     "data": {
      "text/html": [
       "<div><style>\n",
       ".dataframe > thead > tr,\n",
       ".dataframe > tbody > tr {\n",
       "  text-align: right;\n",
       "  white-space: pre-wrap;\n",
       "}\n",
       "</style>\n",
       "<small>shape: (5, 6)</small><table border=\"1\" class=\"dataframe\"><thead><tr><th>id</th><th>date</th><th>store_nbr</th><th>item_nbr</th><th>unit_sales</th><th>onpromotion</th></tr><tr><td>i64</td><td>date</td><td>i64</td><td>i64</td><td>f64</td><td>bool</td></tr></thead><tbody><tr><td>66545998</td><td>2016-01-02</td><td>47</td><td>103520</td><td>10.0</td><td>true</td></tr><tr><td>66545999</td><td>2016-01-02</td><td>47</td><td>103665</td><td>7.0</td><td>false</td></tr><tr><td>66546000</td><td>2016-01-02</td><td>47</td><td>105574</td><td>33.0</td><td>false</td></tr><tr><td>66546001</td><td>2016-01-02</td><td>47</td><td>105575</td><td>80.0</td><td>false</td></tr><tr><td>66546002</td><td>2016-01-02</td><td>47</td><td>105577</td><td>13.0</td><td>false</td></tr></tbody></table></div>"
      ],
      "text/plain": [
       "shape: (5, 6)\n",
       "┌──────────┬────────────┬───────────┬──────────┬────────────┬─────────────┐\n",
       "│ id       ┆ date       ┆ store_nbr ┆ item_nbr ┆ unit_sales ┆ onpromotion │\n",
       "│ ---      ┆ ---        ┆ ---       ┆ ---      ┆ ---        ┆ ---         │\n",
       "│ i64      ┆ date       ┆ i64       ┆ i64      ┆ f64        ┆ bool        │\n",
       "╞══════════╪════════════╪═══════════╪══════════╪════════════╪═════════════╡\n",
       "│ 66545998 ┆ 2016-01-02 ┆ 47        ┆ 103520   ┆ 10.0       ┆ true        │\n",
       "│ 66545999 ┆ 2016-01-02 ┆ 47        ┆ 103665   ┆ 7.0        ┆ false       │\n",
       "│ 66546000 ┆ 2016-01-02 ┆ 47        ┆ 105574   ┆ 33.0       ┆ false       │\n",
       "│ 66546001 ┆ 2016-01-02 ┆ 47        ┆ 105575   ┆ 80.0       ┆ false       │\n",
       "│ 66546002 ┆ 2016-01-02 ┆ 47        ┆ 105577   ┆ 13.0       ┆ false       │\n",
       "└──────────┴────────────┴───────────┴──────────┴────────────┴─────────────┘"
      ]
     },
     "execution_count": 2,
     "metadata": {},
     "output_type": "execute_result"
    }
   ],
   "source": [
    "import polars as pl\n",
    "import pyarrow.dataset as ds\n",
    "\n",
    "dset = ds.dataset('s3://cd4ml/data/raw/store47_2016_positive.zstd', format='parquet')\n",
    "(\n",
    "    pl.scan_pyarrow_dataset(dset)\n",
    "    .head()\n",
    "    .collect()\n",
    ")"
   ]
  },
  {
   "cell_type": "code",
   "execution_count": null,
   "metadata": {},
   "outputs": [],
   "source": []
  }
 ],
 "metadata": {
  "kernelspec": {
   "display_name": ".venv",
   "language": "python",
   "name": "python3"
  },
  "language_info": {
   "codemirror_mode": {
    "name": "ipython",
    "version": 3
   },
   "file_extension": ".py",
   "mimetype": "text/x-python",
   "name": "python",
   "nbconvert_exporter": "python",
   "pygments_lexer": "ipython3",
   "version": "3.12.2"
  }
 },
 "nbformat": 4,
 "nbformat_minor": 2
}
