{
 "cells": [
  {
   "cell_type": "code",
   "execution_count": null,
   "metadata": {},
   "outputs": [],
   "source": [
    "%cd ..\n",
    "%load_ext autoreload\n",
    "%autoreload 2"
   ]
  },
  {
   "cell_type": "markdown",
   "metadata": {},
   "source": [
    "# Mini EDA"
   ]
  },
  {
   "cell_type": "code",
   "execution_count": null,
   "metadata": {},
   "outputs": [],
   "source": [
    "import polars as pl"
   ]
  },
  {
   "cell_type": "code",
   "execution_count": null,
   "metadata": {},
   "outputs": [],
   "source": [
    "pl.scan_csv('data/train.csv').select(pl.col('store_nbr')).unique().collect()"
   ]
  },
  {
   "cell_type": "code",
   "execution_count": null,
   "metadata": {},
   "outputs": [],
   "source": [
    "pl.scan_csv('data/train.csv').filter(pl.col('store_nbr') == 47).head().collect()"
   ]
  },
  {
   "cell_type": "code",
   "execution_count": null,
   "metadata": {},
   "outputs": [],
   "source": [
    "(pl.scan_csv('data/train.csv')\n",
    " .filter(pl.col('store_nbr') == 47)\n",
    " .with_columns(pl.col('date').str.to_date(format='%Y-%m-%d'))\n",
    " .with_columns(pl.col('date').dt.year().alias('year'))\n",
    " .group_by('year')\n",
    " .len()\n",
    " .collect())"
   ]
  },
  {
   "cell_type": "code",
   "execution_count": null,
   "metadata": {},
   "outputs": [],
   "source": [
    "store47_2016 = (\n",
    "    pl.scan_csv('data/train.csv')\n",
    "    .filter(pl.col('store_nbr') == 47)\n",
    "    .with_columns(\n",
    "        pl.col('date').str.to_date(format='%Y-%m-%d'),\n",
    "        pl.col('onpromotion').replace_strict({\"False\": False, \"True\": True}))\n",
    "    .filter(pl.col('date').dt.year().cast(pl.Int32) == 2016)\n",
    "    .collect()\n",
    ")"
   ]
  },
  {
   "cell_type": "code",
   "execution_count": null,
   "metadata": {},
   "outputs": [],
   "source": [
    "store47_2016.write_parquet('data/store47_2016.zstd', compression='zstd')"
   ]
  },
  {
   "cell_type": "code",
   "execution_count": null,
   "metadata": {},
   "outputs": [],
   "source": [
    "pl.scan_parquet('data/store47_2016.zstd').head().collect()"
   ]
  },
  {
   "cell_type": "code",
   "execution_count": null,
   "metadata": {},
   "outputs": [],
   "source": [
    "pl.scan_parquet('data/store47_2016.zstd').describe()"
   ]
  },
  {
   "cell_type": "code",
   "execution_count": null,
   "metadata": {},
   "outputs": [],
   "source": [
    "# remove negative unit_sales(\n",
    "(pl.scan_parquet('data/store47_2016.zstd')\n",
    ".filter(pl.col('unit_sales') >= 0)\n",
    ".collect()\n",
    ".write_parquet('data/store47_2016_positive.zstd', compression='zstd')\n",
    ")"
   ]
  },
  {
   "cell_type": "markdown",
   "metadata": {},
   "source": [
    "# Download"
   ]
  },
  {
   "cell_type": "code",
   "execution_count": null,
   "metadata": {},
   "outputs": [],
   "source": [
    "import polars as pl\n",
    "import pyarrow.dataset as ds\n",
    "\n",
    "dset = ds.dataset('s3://cd4ml/data/raw/store47_2016_positive.zstd', format='parquet')\n",
    "(\n",
    "    pl.scan_pyarrow_dataset(dset)\n",
    "    .head()\n",
    "    .collect()\n",
    ")"
   ]
  }
 ],
 "metadata": {
  "kernelspec": {
   "display_name": ".venv",
   "language": "python",
   "name": "python3"
  },
  "language_info": {
   "codemirror_mode": {
    "name": "ipython",
    "version": 3
   },
   "file_extension": ".py",
   "mimetype": "text/x-python",
   "name": "python",
   "nbconvert_exporter": "python",
   "pygments_lexer": "ipython3"
  }
 },
 "nbformat": 4,
 "nbformat_minor": 2
}
